{
 "cells": [
  {
   "cell_type": "markdown",
   "id": "8c047c72",
   "metadata": {},
   "source": [
    "# Intensity Calculation"
   ]
  },
  {
   "cell_type": "code",
   "execution_count": 3,
   "id": "7f501c18",
   "metadata": {},
   "outputs": [],
   "source": [
    "import utils \n",
    "import torch\n",
    "import os\n",
    "import pickle\n",
    "import csv"
   ]
  },
  {
   "cell_type": "markdown",
   "id": "f5ca7559",
   "metadata": {},
   "source": [
    "# Data"
   ]
  },
  {
   "cell_type": "code",
   "execution_count": 4,
   "id": "29ec4697",
   "metadata": {},
   "outputs": [],
   "source": [
    "data_path = f'data/conttime_1000_Seq_5_Dim_50_MaxLen_8_LSTMUnits.pkl'\n",
    "dim_process = 5"
   ]
  },
  {
   "cell_type": "code",
   "execution_count": 17,
   "id": "15c9c085",
   "metadata": {},
   "outputs": [],
   "source": [
    "interarrival_seqs, event_types_seqs, length_seqs = utils.open_pkl_file(data_path, 'test')"
   ]
  },
  {
   "cell_type": "code",
   "execution_count": 9,
   "id": "6b22667b",
   "metadata": {},
   "outputs": [],
   "source": [
    "# Padding\n",
    "interarrival_seqs, event_types_seqs = utils.padding_full(\n",
    "        interarrival_seqs, \n",
    "        event_types_seqs, \n",
    "        length_seqs, \n",
    "        dim_process\n",
    "    )"
   ]
  },
  {
   "cell_type": "code",
   "execution_count": 12,
   "id": "ec18bcb7",
   "metadata": {
    "scrolled": true
   },
   "outputs": [],
   "source": [
    "interarrival_batch = interarrival_seqs[0:5]\n",
    "event_types_batch = event_types_seqs[0:5]\n",
    "length_seqs_batch = length_seqs[0:5]"
   ]
  },
  {
   "cell_type": "markdown",
   "id": "cbf3eabd",
   "metadata": {},
   "source": [
    "# Generating Simulated Data"
   ]
  },
  {
   "cell_type": "code",
   "execution_count": 13,
   "id": "2045f471",
   "metadata": {},
   "outputs": [],
   "source": [
    "sim_diffs_seqs, sim_diffs_index, total_duration_seqs = utils.generate_simulation(interarrival_batch, length_seqs_batch)"
   ]
  },
  {
   "cell_type": "markdown",
   "id": "950bfb9e",
   "metadata": {},
   "source": [
    "# Forward"
   ]
  },
  {
   "cell_type": "code",
   "execution_count": 16,
   "id": "2eb87a74",
   "metadata": {},
   "outputs": [
    {
     "data": {
      "text/plain": [
       "Conttime(\n",
       "  (emb): Embedding(3, 8)\n",
       "  (lstm_cell): CTLSTMCell(\n",
       "    (linear): Linear(in_features=16, out_features=56, bias=True)\n",
       "  )\n",
       "  (hidden_lambda): Linear(in_features=8, out_features=2, bias=True)\n",
       ")"
      ]
     },
     "execution_count": 16,
     "metadata": {},
     "output_type": "execute_result"
    }
   ],
   "source": [
    "model = torch.load('./models/conttime_100_Seq_2_Dim_100_MaxLen_8_LSTMUnits.pt')\n"
   ]
  },
  {
   "cell_type": "markdown",
   "id": "85ea40e4",
   "metadata": {},
   "source": [
    "# Calculating Estimated Intensity Neural "
   ]
  },
  {
   "cell_type": "code",
   "execution_count": null,
   "id": "73d54dec",
   "metadata": {},
   "outputs": [],
   "source": [
    "hidden_states, *_ = model(event_types_seqs, interarrival_seqs)"
   ]
  },
  {
   "cell_type": "code",
   "execution_count": null,
   "id": "084a190a",
   "metadata": {},
   "outputs": [],
   "source": [
    "lambda_all = F.softplus(model.hidden_lambda(hidden_states))"
   ]
  },
  {
   "cell_type": "markdown",
   "id": "12157cee",
   "metadata": {},
   "source": [
    "# Calculating Intensity Hawkes (Actual)"
   ]
  },
  {
   "cell_type": "code",
   "execution_count": null,
   "id": "ab9b24ca",
   "metadata": {},
   "outputs": [],
   "source": [
    "def compute_intensity_hawkes(self, time_current):\n",
    "        # Initialize intensity with background rate (already is not SFT)\n",
    "        self.intensity = np.copy(self.mu)\n",
    "        \n",
    "        # Looping over previous events\n",
    "        for event in self.one_sequence:\n",
    "            # Calculate intensity form equation (2)\n",
    "            time_since_start = event['time_since_start']\n",
    "            event_type = event['event_type']\n",
    "            change_time = time_current - time_since_start\n",
    "            \n",
    "            decay_frac = np.exp(-self.delta[:, event_type] * change_time)\n",
    "\n",
    "            self.intensity += np.copy(self.alpha[:, event_type] * decay_frac)\n",
    "            \n",
    "            if model = \"hawkesinhib\":\n",
    "                self.intensity = self.soft_relu(self.intensity)\n",
    "        \n",
    "        return self.intensity"
   ]
  },
  {
   "cell_type": "code",
   "execution_count": null,
   "id": "bdb15859",
   "metadata": {},
   "outputs": [],
   "source": [
    "intensity_list = []\n",
    "\n",
    "for time in sequence:\n",
    "    intensity = compute_intensity_hawkes(time)\n",
    "    intensity_list.append(intensity)"
   ]
  },
  {
   "cell_type": "markdown",
   "id": "8cd0b482",
   "metadata": {},
   "source": [
    "# Calculating Intensity Neural (Actual)"
   ]
  },
  {
   "cell_type": "code",
   "execution_count": null,
   "id": "86c4f5bf",
   "metadata": {},
   "outputs": [],
   "source": [
    "with open(\"./gen_models/conttime_100_Seq_2_Dim_100_MaxLen_8_LSTMUnits.pkl\", \"rb\") as f:\n",
    "    # Load the data from the pickle file\n",
    "    data = pickle.load(f)"
   ]
  },
  {
   "cell_type": "code",
   "execution_count": null,
   "id": "f98a7963",
   "metadata": {},
   "outputs": [],
   "source": [
    "data"
   ]
  },
  {
   "cell_type": "code",
   "execution_count": null,
   "id": "04f8faf4",
   "metadata": {},
   "outputs": [],
   "source": [
    "generator_settings = {\n",
    "        'dim_process': dim_process,\n",
    "        'lstm_units': lstm_units,\n",
    "        'seed': seed,\n",
    "        'pretrain_model_path': pretrain_model_path,\n",
    "        'sum_for_time': sum_for_time,\n",
    "        'args': None  # Update this if 'args' is something specific\n",
    "    }\n",
    "\n"
   ]
  },
  {
   "cell_type": "code",
   "execution_count": null,
   "id": "3f61ced7",
   "metadata": {},
   "outputs": [],
   "source": [
    "gen_model = seq_generator.NeuralHawkesCTLSTM(generator_settings)\n",
    "\n",
    "for time in sequence:\n",
    "    "
   ]
  },
  {
   "cell_type": "markdown",
   "id": "45fb370b",
   "metadata": {},
   "source": [
    "# Data for R"
   ]
  },
  {
   "cell_type": "code",
   "execution_count": 7,
   "id": "2ba12a2c",
   "metadata": {
    "scrolled": true
   },
   "outputs": [
    {
     "data": {
      "text/plain": [
       "[tensor([0.2480, 0.6965, 0.0386, 0.2882, 0.1562, 0.3219, 0.2465, 0.3069, 0.0895,\n",
       "         0.2165, 0.3193, 0.1113, 0.0127, 0.3950, 0.1227, 0.3190, 0.2185, 0.0250,\n",
       "         0.0506, 0.0367, 0.0552, 0.0735, 0.0135, 0.0265, 0.0041, 0.0851, 0.2348,\n",
       "         0.1769, 0.0548, 0.0146, 0.2199, 0.1452, 0.2108, 0.0197, 0.2057, 0.0272,\n",
       "         0.0598, 0.0933, 0.1361, 0.5554, 0.2824, 0.0402, 0.0202, 0.3998, 0.0644,\n",
       "         0.3322, 0.0838, 0.0805]),\n",
       " tensor([0.2725, 0.0124, 0.0933, 0.0879, 0.1025, 0.0491, 0.0934, 0.2177, 0.3190,\n",
       "         0.0821, 0.1706, 0.1492, 0.3024, 1.1722, 0.0316, 0.0770, 0.0460, 0.4269,\n",
       "         0.6420, 0.0486, 0.3461, 0.2229, 0.1622])]"
      ]
     },
     "execution_count": 7,
     "metadata": {},
     "output_type": "execute_result"
    }
   ],
   "source": [
    "interarrival_seqs[0:2]"
   ]
  },
  {
   "cell_type": "code",
   "execution_count": 19,
   "id": "77199ed8",
   "metadata": {},
   "outputs": [],
   "source": [
    "# Specify the file path\n",
    "file_path = 'length_seqs_train.csv'\n",
    "\n",
    "# Write data to CSV file\n",
    "with open(file_path, 'w', newline='') as csvfile:\n",
    "    writer = csv.writer(csvfile)\n",
    "    writer.writerow(length_seqs)"
   ]
  },
  {
   "cell_type": "code",
   "execution_count": 29,
   "id": "64705fc4",
   "metadata": {},
   "outputs": [],
   "source": [
    "interarrival_seqs, event_types_seqs = utils.padding_full(\n",
    "        interarrival_seqs, \n",
    "        event_types_seqs, \n",
    "        length_seqs, \n",
    "        dim_process\n",
    "    )"
   ]
  },
  {
   "cell_type": "code",
   "execution_count": 26,
   "id": "037b8dfe",
   "metadata": {},
   "outputs": [],
   "source": [
    "torch.save(interarrival_seqs, 'interarrival_seqs.pt')"
   ]
  },
  {
   "cell_type": "code",
   "execution_count": 27,
   "id": "91363d59",
   "metadata": {},
   "outputs": [
    {
     "data": {
      "text/plain": [
       "tensor([[0.0000, 0.2480, 0.6965,  ..., 0.0805, 0.0000, 0.0000],\n",
       "        [0.0000, 0.2725, 0.0124,  ..., 0.0000, 0.0000, 0.0000],\n",
       "        [0.0000, 0.1545, 0.1190,  ..., 0.0000, 0.0000, 0.0000],\n",
       "        ...,\n",
       "        [0.0000, 0.1723, 0.2842,  ..., 0.0000, 0.0000, 0.0000],\n",
       "        [0.0000, 0.0263, 0.3160,  ..., 0.0000, 0.0000, 0.0000],\n",
       "        [0.0000, 0.2332, 0.0590,  ..., 0.0000, 0.0000, 0.0000]])"
      ]
     },
     "execution_count": 27,
     "metadata": {},
     "output_type": "execute_result"
    }
   ],
   "source": [
    "torch.load('interarrival_seqs.pt')"
   ]
  },
  {
   "cell_type": "code",
   "execution_count": null,
   "id": "6d04920d",
   "metadata": {
    "scrolled": true
   },
   "outputs": [],
   "source": [
    "# Load the model\n",
    "model = torch.load(\"conttime_100_Seq_2_Dim_100_MaxLen_8_LSTMUnits.pt\")\n",
    "\n",
    "# Print the model\n",
    "print(model)\n"
   ]
  }
 ],
 "metadata": {
  "kernelspec": {
   "display_name": "nhenv",
   "language": "python",
   "name": "nhenv"
  },
  "language_info": {
   "codemirror_mode": {
    "name": "ipython",
    "version": 3
   },
   "file_extension": ".py",
   "mimetype": "text/x-python",
   "name": "python",
   "nbconvert_exporter": "python",
   "pygments_lexer": "ipython3",
   "version": "3.10.13"
  }
 },
 "nbformat": 4,
 "nbformat_minor": 5
}
